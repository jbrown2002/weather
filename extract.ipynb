{
 "cells": [
  {
   "cell_type": "code",
   "execution_count": 2,
   "id": "f18cd724-8d62-4928-a492-1d05d4c66b2a",
   "metadata": {},
   "outputs": [],
   "source": [
    "import requests\n",
    "import pandas as pd\n",
    "import sqlite3\n",
    "import schedule\n",
    "import time\n",
    "\n",
    "# Extract: Get weather data from OpenWeather API\n",
    "def extract_weather_data():\n",
    "    api_key = 'c8f939fef8908e69e9d56c21ab1fa5ad'\n",
    "\n",
    "    city = 'London'  # City to get weather data for\n",
    "    url = f'https://api.openweathermap.org/data/2.5/weather?q=London&appid=c8f939fef8908e69e9d56c21ab1fa5ad'\n",
    "\n",
    "\n",
    "    try:\n",
    "        response = requests.get(url)\n",
    "        data = response.json()\n",
    "\n",
    "        if response.status_code == 200:\n",
    "            # Only extract relevant fields\n",
    "            weather_data = {\n",
    "                'city': data['name'],\n",
    "                'temperature': data['main']['temp'],\n",
    "                'humidity': data['main']['humidity'],\n",
    "                'weather': data['weather'][0]['description'],\n",
    "                'timestamp': pd.to_datetime('now')\n",
    "            }\n",
    "            print(\"Data extracted successfully.\")\n",
    "            return weather_data\n",
    "        else:\n",
    "            print(f\"Error fetching data: {data['message']}\")\n",
    "            return None\n",
    "    except Exception as e:\n",
    "        print(f\"Error in extraction: {e}\")\n",
    "        return None"
   ]
  },
  {
   "cell_type": "code",
   "execution_count": 3,
   "id": "64fb42a3-812c-4812-a267-42be23b14b41",
   "metadata": {},
   "outputs": [],
   "source": [
    "# Transform: Clean and transform the weather data\n",
    "def transform_data(weather_data):\n",
    "    \"\"\"\n",
    "    Transforms the raw weather data with complex transformations.\n",
    "    \"\"\"\n",
    "\n",
    "    # Convert temperature from Kelvin to Celsius\n",
    "    weather_data['temperature'] = weather_data['temperature'] - 273.15\n",
    "\n",
    "    # Add 'Feels Like' temperature (simple approximation based on actual temperature and humidity)\n",
    "    weather_data['feels_like'] = weather_data['temperature'] - ((100 - weather_data['humidity']) / 5)\n",
    "\n",
    "    # Categorize humidity levels into 'Low', 'Medium', 'High'\n",
    "    def categorize_humidity(humidity):\n",
    "        if humidity < 30:\n",
    "            return 'Low'\n",
    "        elif 30 <= humidity <= 60:\n",
    "            return 'Medium'\n",
    "        else:\n",
    "            return 'High'\n",
    "\n",
    "    # Apply categorization directly to the single humidity value\n",
    "    weather_data['humidity_category'] = categorize_humidity(weather_data['humidity'])\n",
    "\n",
    "    # Categorize weather conditions into custom labels (simplified)\n",
    "    def categorize_weather(description):\n",
    "        if 'clear' in description:\n",
    "            return 'Clear'\n",
    "        elif 'clouds' in description:\n",
    "            return 'Cloudy'\n",
    "        elif 'rain' in description or 'drizzle' in description:\n",
    "            return 'Rainy'\n",
    "        elif 'snow' in description:\n",
    "            return 'Snowy'\n",
    "        elif 'thunderstorm' in description:\n",
    "            return 'Thunderstorm'\n",
    "        else:\n",
    "            return 'Other'\n",
    "\n",
    "    # Directly call categorize_weather on the string (no apply needed)\n",
    "    weather_data['weather_category'] = categorize_weather(weather_data['weather'])\n",
    "\n",
    "    # Add weather insights: 'Cold', 'Warm', 'Hot' based on temperature\n",
    "    def temperature_insight(temp):\n",
    "        if temp < 0:\n",
    "            return 'Cold'\n",
    "        elif 0 <= temp <= 20:\n",
    "            return 'Warm'\n",
    "        else:\n",
    "            return 'Hot'\n",
    "\n",
    "    # Apply temperature insight directly to the temperature\n",
    "    weather_data['temperature_insight'] = temperature_insight(weather_data['temperature'])\n",
    "\n",
    "    # Adding a simple date feature: Day of the week (adjusted for single timestamp)\n",
    "    weather_data['day_of_week'] = weather_data['timestamp'].strftime('%A')  # Directly extract day name from timestamp\n",
    "\n",
    "    # Return the transformed data\n",
    "    print(\"Data transformed successfully.\")\n",
    "    return weather_data"
   ]
  },
  {
   "cell_type": "code",
   "execution_count": 4,
   "id": "a8e05025-904e-4ec0-9b8a-ba65a3915c67",
   "metadata": {},
   "outputs": [],
   "source": [
    "def load_data(weather_data):\n",
    "    if weather_data:\n",
    "        # Connect to SQLite database (or create it if it doesn't exist)\n",
    "        conn = sqlite3.connect('weather_data.db')\n",
    "        cursor = conn.cursor()\n",
    "\n",
    "        # Create a table if it doesn't exist\n",
    "        cursor.execute('''\n",
    "            CREATE TABLE IF NOT EXISTS weather (\n",
    "                id INTEGER PRIMARY KEY AUTOINCREMENT,\n",
    "                city TEXT,\n",
    "                temperature REAL,\n",
    "                humidity INTEGER,\n",
    "                weather TEXT,\n",
    "                timestamp DATETIME\n",
    "            )\n",
    "        ''')\n",
    "    \n",
    "        weather_data['timestamp'] = weather_data['timestamp'].strftime('%Y-%m-%d %H:%M:%S')\n",
    "\n",
    "        # Insert the data into the table\n",
    "        cursor.execute('''\n",
    "            INSERT INTO weather (city, temperature, humidity, weather, timestamp)\n",
    "            VALUES (?, ?, ?, ?, ?)\n",
    "        ''', (weather_data['city'], weather_data['temperature'], weather_data['humidity'], weather_data['weather'], weather_data['timestamp']))\n",
    "\n",
    "        # Commit the transaction and close the connection\n",
    "        conn.commit()\n",
    "        conn.close()\n",
    "\n",
    "        print(f\"Data loaded into the database: {weather_data['city']}\")\n",
    "    else:\n",
    "        print(\"No data to load.\")"
   ]
  },
  {
   "cell_type": "code",
   "execution_count": 5,
   "id": "668923b9-2509-4f7a-a7da-91afdffa165b",
   "metadata": {},
   "outputs": [],
   "source": [
    "def etl_pipeline():\n",
    "    weather_data = extract_weather_data()\n",
    "    if weather_data:\n",
    "        transformed_data = transform_data(weather_data)\n",
    "        load_data(transformed_data)\n",
    "    else:\n",
    "        print(\"No data to process.\")"
   ]
  },
  {
   "cell_type": "code",
   "execution_count": 6,
   "id": "938e9a0f-cbcb-46c8-98c9-680527e6a7a3",
   "metadata": {},
   "outputs": [
    {
     "name": "stdout",
     "output_type": "stream",
     "text": [
      "Data extracted successfully.\n",
      "Data transformed successfully.\n",
      "Data loaded into the database: London\n"
     ]
    },
    {
     "name": "stderr",
     "output_type": "stream",
     "text": [
      "/var/folders/w7/3qd49lmx0_gc1_3hygg9hdn40000gn/T/ipykernel_4859/537665022.py:26: FutureWarning: The parsing of 'now' in pd.to_datetime without `utc=True` is deprecated. In a future version, this will match Timestamp('now') and Timestamp.now()\n",
      "  'timestamp': pd.to_datetime('now')\n"
     ]
    }
   ],
   "source": [
    "etl_pipeline()"
   ]
  },
  {
   "cell_type": "code",
   "execution_count": 7,
   "id": "3f84b044-a70a-4cc5-83ec-5e130974913e",
   "metadata": {},
   "outputs": [],
   "source": [
    "def schedule_pipeline():\n",
    "    try:\n",
    "        schedule.every(1).hour.do(etl_pipeline)\n",
    "        print(\"Pipeline scheduled to run every hour.\")\n",
    "    except Exception as e:\n",
    "        logging.error(f\"Error scheduling pipeline: {e}\")\n",
    "        print(f\"Error scheduling pipeline: {e}\")"
   ]
  },
  {
   "cell_type": "code",
   "execution_count": 8,
   "id": "3d9e8b9e-999a-48c1-8dc8-c4308c3ea3a2",
   "metadata": {},
   "outputs": [
    {
     "name": "stdout",
     "output_type": "stream",
     "text": [
      "Pipeline scheduled to run every hour.\n",
      "Scheduler stopped manually.\n"
     ]
    }
   ],
   "source": [
    "# Run the scheduler\n",
    "if __name__ == \"__main__\":\n",
    "    try:\n",
    "        schedule_pipeline()  # Schedule the task\n",
    "        while True:\n",
    "            schedule.run_pending()\n",
    "            time.sleep(60)  # Wait 1 minute before checking again\n",
    "    except KeyboardInterrupt:\n",
    "        print(\"Scheduler stopped manually.\")\n",
    "    except Exception as e:\n",
    "        logging.error(f\"Unexpected error in scheduler loop: {e}\")\n",
    "        print(f\"Unexpected error in scheduler loop: {e}\")"
   ]
  }
 ],
 "metadata": {
  "kernelspec": {
   "display_name": "Python 3 (ipykernel)",
   "language": "python",
   "name": "python3"
  },
  "language_info": {
   "codemirror_mode": {
    "name": "ipython",
    "version": 3
   },
   "file_extension": ".py",
   "mimetype": "text/x-python",
   "name": "python",
   "nbconvert_exporter": "python",
   "pygments_lexer": "ipython3",
   "version": "3.10.9"
  }
 },
 "nbformat": 4,
 "nbformat_minor": 5
}
